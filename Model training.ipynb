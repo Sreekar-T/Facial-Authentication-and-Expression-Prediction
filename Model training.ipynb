{
  "cells": [
    {
      "cell_type": "code",
      "execution_count": null,
      "metadata": {
        "id": "8_UkEOb6e198"
      },
      "outputs": [],
      "source": [
        "import pandas as pd"
      ]
    },
    {
      "cell_type": "code",
      "execution_count": null,
      "metadata": {
        "id": "2ytbczKzje0R"
      },
      "outputs": [],
      "source": [
        "df = pd.read_csv('/content/drive/MyDrive/College Project/fer2013.csv')"
      ]
    },
    {
      "cell_type": "code",
      "execution_count": null,
      "metadata": {
        "id": "sDmZiNZTjwYB"
      },
      "outputs": [],
      "source": [
        "import numpy as np\n",
        "\n",
        "X_train = []\n",
        "y_train = []\n",
        "X_test = []\n",
        "y_test = []\n",
        "for index, row in df.iterrows():\n",
        "    k = row['pixels'].split(\" \")\n",
        "    if row['Usage'] == 'Training':\n",
        "        X_train.append(np.array(k))\n",
        "        y_train.append(row['emotion'])\n",
        "    elif row['Usage'] == 'PublicTest':\n",
        "        X_test.append(np.array(k))\n",
        "        y_test.append(row['emotion'])"
      ]
    },
    {
      "cell_type": "code",
      "execution_count": null,
      "metadata": {
        "id": "nrV6nJAKkQmg"
      },
      "outputs": [],
      "source": [
        "X_train = np.array(X_train, dtype = 'uint8')\n",
        "y_train = np.array(y_train, dtype = 'uint8')\n",
        "X_test = np.array(X_test, dtype = 'uint8')\n",
        "y_test = np.array(y_test, dtype = 'uint8')"
      ]
    },
    {
      "cell_type": "code",
      "execution_count": null,
      "metadata": {
        "id": "jNFPmGZCkf7-"
      },
      "outputs": [],
      "source": [
        "import keras\n",
        "from tensorflow.keras.utils import to_categorical\n",
        "y_train= to_categorical(y_train, num_classes=7)\n",
        "y_test = to_categorical(y_test, num_classes=7)"
      ]
    },
    {
      "cell_type": "code",
      "execution_count": null,
      "metadata": {
        "id": "v1j4VQYKkt1Q"
      },
      "outputs": [],
      "source": [
        "X_train = X_train.reshape(X_train.shape[0], 48, 48, 1)\n",
        "X_test = X_test.reshape(X_test.shape[0], 48, 48, 1)"
      ]
    },
    {
      "cell_type": "code",
      "execution_count": null,
      "metadata": {
        "id": "wYSk00fclCe_"
      },
      "outputs": [],
      "source": [
        "from keras.preprocessing.image import ImageDataGenerator \n",
        "datagen = ImageDataGenerator( \n",
        "    rescale=1./255,\n",
        "    rotation_range = 10,\n",
        "    horizontal_flip = True,\n",
        "    width_shift_range=0.1,\n",
        "    height_shift_range=0.1,\n",
        "    fill_mode = 'nearest')"
      ]
    },
    {
      "cell_type": "code",
      "execution_count": null,
      "metadata": {
        "id": "qNvHSsKvlE_f"
      },
      "outputs": [],
      "source": [
        "testgen = ImageDataGenerator(rescale=1./255)\n",
        "datagen.fit(X_train)"
      ]
    },
    {
      "cell_type": "code",
      "execution_count": null,
      "metadata": {
        "id": "ZeoRkCQplH4s"
      },
      "outputs": [],
      "source": [
        "batch_size = 64"
      ]
    },
    {
      "cell_type": "code",
      "execution_count": null,
      "metadata": {
        "id": "mE3PdJ4blLEb"
      },
      "outputs": [],
      "source": [
        "train_flow = datagen.flow(X_train, y_train, batch_size=batch_size) \n",
        "test_flow = testgen.flow(X_test, y_test, batch_size=batch_size)"
      ]
    },
    {
      "cell_type": "code",
      "execution_count": null,
      "metadata": {
        "id": "0RAzehBYOdCE"
      },
      "outputs": [],
      "source": [
        "import keras"
      ]
    },
    {
      "cell_type": "code",
      "execution_count": null,
      "metadata": {
        "id": "nQCa7Y1AlQLQ"
      },
      "outputs": [],
      "source": [
        "from tensorflow.keras.utils import plot_model\n",
        "from keras.models import Model\n",
        "from keras.layers import Input, Dense, Flatten, Dropout, BatchNormalization\n",
        "from keras.layers.convolutional import Conv2D\n",
        "from keras.layers.pooling import MaxPooling2D\n",
        "from keras.layers import concatenate\n",
        "from tensorflow.keras.optimizers import Adam, SGD\n",
        "from keras.regularizers import l1, l2\n",
        "from matplotlib import pyplot as plt\n",
        "from sklearn.metrics import confusion_matrix"
      ]
    },
    {
      "cell_type": "code",
      "execution_count": null,
      "metadata": {
        "id": "sqMTgSFXloxY"
      },
      "outputs": [],
      "source": [
        "def Model1(input_shape=(48,48,1)):\n",
        "    # first input model\n",
        "    visible = Input(shape=input_shape, name='input')\n",
        "    num_classes = 7\n",
        "    #the 1-st block\n",
        "    conv1_1 = Conv2D(64, kernel_size=3, activation='relu', padding='same', name = 'conv1_1')(visible)\n",
        "    conv1_1 = BatchNormalization()(conv1_1)\n",
        "    conv1_2 = Conv2D(64, kernel_size=3, activation='relu', padding='same', name = 'conv1_2')(conv1_1)\n",
        "    conv1_2 = BatchNormalization()(conv1_2)\n",
        "    pool1_1 = MaxPooling2D(pool_size=(2,2), name = 'pool1_1')(conv1_2)\n",
        "    drop1_1 = Dropout(0.3, name = 'drop1_1')(pool1_1)#the 2-nd block\n",
        "    conv2_1 = Conv2D(128, kernel_size=3, activation='relu', padding='same', name = 'conv2_1')(drop1_1)\n",
        "    conv2_1 = BatchNormalization()(conv2_1)\n",
        "    conv2_2 = Conv2D(128, kernel_size=3, activation='relu', padding='same', name = 'conv2_2')(conv2_1)\n",
        "    conv2_2 = BatchNormalization()(conv2_2)\n",
        "    conv2_3 = Conv2D(128, kernel_size=3, activation='relu', padding='same', name = 'conv2_3')(conv2_2)\n",
        "    conv2_2 = BatchNormalization()(conv2_3)\n",
        "    pool2_1 = MaxPooling2D(pool_size=(2,2), name = 'pool2_1')(conv2_3)\n",
        "    drop2_1 = Dropout(0.3, name = 'drop2_1')(pool2_1)#the 3-rd block\n",
        "    conv3_1 = Conv2D(256, kernel_size=3, activation='relu', padding='same', name = 'conv3_1')(drop2_1)\n",
        "    conv3_1 = BatchNormalization()(conv3_1)\n",
        "    conv3_2 = Conv2D(256, kernel_size=3, activation='relu', padding='same', name = 'conv3_2')(conv3_1)\n",
        "    conv3_2 = BatchNormalization()(conv3_2)\n",
        "    conv3_3 = Conv2D(256, kernel_size=3, activation='relu', padding='same', name = 'conv3_3')(conv3_2)\n",
        "    conv3_3 = BatchNormalization()(conv3_3)\n",
        "    conv3_4 = Conv2D(256, kernel_size=3, activation='relu', padding='same', name = 'conv3_4')(conv3_3)\n",
        "    conv3_4 = BatchNormalization()(conv3_4)\n",
        "    pool3_1 = MaxPooling2D(pool_size=(2,2), name = 'pool3_1')(conv3_4)\n",
        "    drop3_1 = Dropout(0.3, name = 'drop3_1')(pool3_1)#the 4-th block\n",
        "    conv4_1 = Conv2D(256, kernel_size=3, activation='relu', padding='same', name = 'conv4_1')(drop3_1)\n",
        "    conv4_1 = BatchNormalization()(conv4_1)\n",
        "    conv4_2 = Conv2D(256, kernel_size=3, activation='relu', padding='same', name = 'conv4_2')(conv4_1)\n",
        "    conv4_2 = BatchNormalization()(conv4_2)\n",
        "    conv4_3 = Conv2D(256, kernel_size=3, activation='relu', padding='same', name = 'conv4_3')(conv4_2)\n",
        "    conv4_3 = BatchNormalization()(conv4_3)\n",
        "    conv4_4 = Conv2D(256, kernel_size=3, activation='relu', padding='same', name = 'conv4_4')(conv4_3)\n",
        "    conv4_4 = BatchNormalization()(conv4_4)\n",
        "    pool4_1 = MaxPooling2D(pool_size=(2,2), name = 'pool4_1')(conv4_4)\n",
        "    drop4_1 = Dropout(0.3, name = 'drop4_1')(pool4_1)\n",
        "    \n",
        "    #the 5-th block\n",
        "    conv5_1 = Conv2D(512, kernel_size=3, activation='relu', padding='same', name = 'conv5_1')(drop4_1)\n",
        "    conv5_1 = BatchNormalization()(conv5_1)\n",
        "    conv5_2 = Conv2D(512, kernel_size=3, activation='relu', padding='same', name = 'conv5_2')(conv5_1)\n",
        "    conv5_2 = BatchNormalization()(conv5_2)\n",
        "    conv5_3 = Conv2D(512, kernel_size=3, activation='relu', padding='same', name = 'conv5_3')(conv5_2)\n",
        "    conv5_3 = BatchNormalization()(conv5_3)\n",
        "    conv5_4 = Conv2D(512, kernel_size=3, activation='relu', padding='same', name = 'conv5_4')(conv5_3)\n",
        "    conv5_3 = BatchNormalization()(conv5_3)\n",
        "    pool5_1 = MaxPooling2D(pool_size=(2,2), name = 'pool5_1')(conv5_4)\n",
        "    drop5_1 = Dropout(0.3, name = 'drop5_1')(pool5_1)#Flatten and output\n",
        "    flatten = Flatten(name = 'flatten')(drop5_1)\n",
        "    ouput = Dense(num_classes, activation='softmax', name = 'output')(flatten)# create model \n",
        "    model = Model(inputs =visible, outputs = ouput)\n",
        "    # summary layers\n",
        "    print(model.summary())\n",
        "    \n",
        "    return model"
      ]
    },
    {
      "cell_type": "code",
      "execution_count": null,
      "metadata": {
        "colab": {
          "base_uri": "https://localhost:8080/"
        },
        "id": "RH6rQH6Hl4hZ",
        "outputId": "70d9edc3-f244-4f4c-acd3-1edf793a0f85"
      },
      "outputs": [
        {
          "output_type": "stream",
          "name": "stdout",
          "text": [
            "Model: \"model\"\n",
            "_________________________________________________________________\n",
            " Layer (type)                Output Shape              Param #   \n",
            "=================================================================\n",
            " input (InputLayer)          [(None, 48, 48, 1)]       0         \n",
            "                                                                 \n",
            " conv1_1 (Conv2D)            (None, 48, 48, 64)        640       \n",
            "                                                                 \n",
            " batch_normalization (BatchN  (None, 48, 48, 64)       256       \n",
            " ormalization)                                                   \n",
            "                                                                 \n",
            " conv1_2 (Conv2D)            (None, 48, 48, 64)        36928     \n",
            "                                                                 \n",
            " batch_normalization_1 (Batc  (None, 48, 48, 64)       256       \n",
            " hNormalization)                                                 \n",
            "                                                                 \n",
            " pool1_1 (MaxPooling2D)      (None, 24, 24, 64)        0         \n",
            "                                                                 \n",
            " drop1_1 (Dropout)           (None, 24, 24, 64)        0         \n",
            "                                                                 \n",
            " conv2_1 (Conv2D)            (None, 24, 24, 128)       73856     \n",
            "                                                                 \n",
            " batch_normalization_2 (Batc  (None, 24, 24, 128)      512       \n",
            " hNormalization)                                                 \n",
            "                                                                 \n",
            " conv2_2 (Conv2D)            (None, 24, 24, 128)       147584    \n",
            "                                                                 \n",
            " batch_normalization_3 (Batc  (None, 24, 24, 128)      512       \n",
            " hNormalization)                                                 \n",
            "                                                                 \n",
            " conv2_3 (Conv2D)            (None, 24, 24, 128)       147584    \n",
            "                                                                 \n",
            " pool2_1 (MaxPooling2D)      (None, 12, 12, 128)       0         \n",
            "                                                                 \n",
            " drop2_1 (Dropout)           (None, 12, 12, 128)       0         \n",
            "                                                                 \n",
            " conv3_1 (Conv2D)            (None, 12, 12, 256)       295168    \n",
            "                                                                 \n",
            " batch_normalization_5 (Batc  (None, 12, 12, 256)      1024      \n",
            " hNormalization)                                                 \n",
            "                                                                 \n",
            " conv3_2 (Conv2D)            (None, 12, 12, 256)       590080    \n",
            "                                                                 \n",
            " batch_normalization_6 (Batc  (None, 12, 12, 256)      1024      \n",
            " hNormalization)                                                 \n",
            "                                                                 \n",
            " conv3_3 (Conv2D)            (None, 12, 12, 256)       590080    \n",
            "                                                                 \n",
            " batch_normalization_7 (Batc  (None, 12, 12, 256)      1024      \n",
            " hNormalization)                                                 \n",
            "                                                                 \n",
            " conv3_4 (Conv2D)            (None, 12, 12, 256)       590080    \n",
            "                                                                 \n",
            " batch_normalization_8 (Batc  (None, 12, 12, 256)      1024      \n",
            " hNormalization)                                                 \n",
            "                                                                 \n",
            " pool3_1 (MaxPooling2D)      (None, 6, 6, 256)         0         \n",
            "                                                                 \n",
            " drop3_1 (Dropout)           (None, 6, 6, 256)         0         \n",
            "                                                                 \n",
            " conv4_1 (Conv2D)            (None, 6, 6, 256)         590080    \n",
            "                                                                 \n",
            " batch_normalization_9 (Batc  (None, 6, 6, 256)        1024      \n",
            " hNormalization)                                                 \n",
            "                                                                 \n",
            " conv4_2 (Conv2D)            (None, 6, 6, 256)         590080    \n",
            "                                                                 \n",
            " batch_normalization_10 (Bat  (None, 6, 6, 256)        1024      \n",
            " chNormalization)                                                \n",
            "                                                                 \n",
            " conv4_3 (Conv2D)            (None, 6, 6, 256)         590080    \n",
            "                                                                 \n",
            " batch_normalization_11 (Bat  (None, 6, 6, 256)        1024      \n",
            " chNormalization)                                                \n",
            "                                                                 \n",
            " conv4_4 (Conv2D)            (None, 6, 6, 256)         590080    \n",
            "                                                                 \n",
            " batch_normalization_12 (Bat  (None, 6, 6, 256)        1024      \n",
            " chNormalization)                                                \n",
            "                                                                 \n",
            " pool4_1 (MaxPooling2D)      (None, 3, 3, 256)         0         \n",
            "                                                                 \n",
            " drop4_1 (Dropout)           (None, 3, 3, 256)         0         \n",
            "                                                                 \n",
            " conv5_1 (Conv2D)            (None, 3, 3, 512)         1180160   \n",
            "                                                                 \n",
            " batch_normalization_13 (Bat  (None, 3, 3, 512)        2048      \n",
            " chNormalization)                                                \n",
            "                                                                 \n",
            " conv5_2 (Conv2D)            (None, 3, 3, 512)         2359808   \n",
            "                                                                 \n",
            " batch_normalization_14 (Bat  (None, 3, 3, 512)        2048      \n",
            " chNormalization)                                                \n",
            "                                                                 \n",
            " conv5_3 (Conv2D)            (None, 3, 3, 512)         2359808   \n",
            "                                                                 \n",
            " batch_normalization_15 (Bat  (None, 3, 3, 512)        2048      \n",
            " chNormalization)                                                \n",
            "                                                                 \n",
            " conv5_4 (Conv2D)            (None, 3, 3, 512)         2359808   \n",
            "                                                                 \n",
            " pool5_1 (MaxPooling2D)      (None, 1, 1, 512)         0         \n",
            "                                                                 \n",
            " drop5_1 (Dropout)           (None, 1, 1, 512)         0         \n",
            "                                                                 \n",
            " flatten (Flatten)           (None, 512)               0         \n",
            "                                                                 \n",
            " output (Dense)              (None, 7)                 3591      \n",
            "                                                                 \n",
            "=================================================================\n",
            "Total params: 13,111,367\n",
            "Trainable params: 13,103,431\n",
            "Non-trainable params: 7,936\n",
            "_________________________________________________________________\n",
            "None\n"
          ]
        },
        {
          "output_type": "stream",
          "name": "stderr",
          "text": [
            "/usr/local/lib/python3.7/dist-packages/keras/optimizers/optimizer_v2/adam.py:110: UserWarning: The `lr` argument is deprecated, use `learning_rate` instead.\n",
            "  super(Adam, self).__init__(name, **kwargs)\n"
          ]
        }
      ],
      "source": [
        "model = Model1()\n",
        "opt = Adam(lr=0.0001, decay=1e-6)\n",
        "model.compile(loss='categorical_crossentropy', optimizer=opt, metrics=['accuracy'])"
      ]
    },
    {
      "cell_type": "code",
      "execution_count": null,
      "metadata": {
        "colab": {
          "base_uri": "https://localhost:8080/"
        },
        "id": "kj92qwHYl-l5",
        "outputId": "3bc5656e-2cb4-4d50-9692-baf46e0f3b24"
      },
      "outputs": [
        {
          "output_type": "stream",
          "name": "stderr",
          "text": [
            "/usr/local/lib/python3.7/dist-packages/ipykernel_launcher.py:6: UserWarning: `Model.fit_generator` is deprecated and will be removed in a future version. Please use `Model.fit`, which supports generators.\n",
            "  \n"
          ]
        },
        {
          "output_type": "stream",
          "name": "stdout",
          "text": [
            "Epoch 1/150\n",
            "448/448 [==============================] - 46s 75ms/step - loss: 2.0258 - accuracy: 0.2168 - val_loss: 1.8279 - val_accuracy: 0.2446\n",
            "Epoch 2/150\n",
            "448/448 [==============================] - 32s 72ms/step - loss: 1.7883 - accuracy: 0.2543 - val_loss: 1.7834 - val_accuracy: 0.2655\n",
            "Epoch 3/150\n",
            "448/448 [==============================] - 34s 75ms/step - loss: 1.7529 - accuracy: 0.2797 - val_loss: 1.7242 - val_accuracy: 0.3062\n",
            "Epoch 4/150\n",
            "448/448 [==============================] - 34s 76ms/step - loss: 1.7047 - accuracy: 0.3173 - val_loss: 1.7418 - val_accuracy: 0.3366\n",
            "...."
          ]
        }
      ],
      "source": [
        "num_epochs = 150\n",
        "history = model.fit_generator(train_flow, \n",
        "                    steps_per_epoch=len(X_train) / batch_size, \n",
        "                    epochs=num_epochs,  \n",
        "                    verbose=1,  \n",
        "                    validation_data=test_flow,validation_steps=len(X_test) / batch_size)"
      ]
    },
    {
      "cell_type": "markdown",
      "metadata": {
        "id": "bUPsPs_0cMZ2"
      },
      "source": [
        "![graph.jpg](data:image/jpeg;base64,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)"
      ]
    },
    {
      "cell_type": "code",
      "execution_count": null,
      "metadata": {
        "id": "ej87jT--ns1P"
      },
      "outputs": [],
      "source": [
        "model.save('draft3.h5')"
      ]
    },
    {
      "cell_type": "code",
      "execution_count": null,
      "metadata": {
        "id": "y2ilHFeeEWv-"
      },
      "outputs": [],
      "source": [
        "%matplotlib inline\n",
        "\n",
        "train_loss=history.history['loss']\n",
        "val_loss=history.history['val_loss']\n",
        "train_acc=history.history['accuracy']\n",
        "val_acc=history.history['val_accuracy']\n",
        "\n",
        "epochs = range(len(train_acc))\n",
        "\n",
        "plt.plot(epochs,train_loss,'r', label='train_loss')\n",
        "plt.plot(epochs,val_loss,'b', label='val_loss')\n",
        "plt.title('train_loss vs val_loss')\n",
        "plt.xlabel('epoch')\n",
        "plt.ylabel('loss')\n",
        "plt.legend()\n",
        "plt.figure()\n",
        "\n",
        "plt.plot(epochs,train_acc,'r', label='train_acc')\n",
        "plt.plot(epochs,val_acc,'b', label='val_acc')\n",
        "plt.title('train_acc vs val_acc')\n",
        "plt.xlabel('epoch')\n",
        "plt.ylabel('accuracy')\n",
        "plt.legend()\n",
        "plt.figure()"
      ]
    },
    {
      "cell_type": "code",
      "execution_count": null,
      "metadata": {
        "id": "MVdhrdclEZrt"
      },
      "outputs": [],
      "source": [
        "loss = model.evaluate(X_test/255., y_test) \n",
        "print(\"Test Loss \" + str(loss[0]))\n",
        "print(\"Test Acc: \" + str(loss[1]))"
      ]
    },
    {
      "cell_type": "code",
      "execution_count": null,
      "metadata": {
        "colab": {
          "base_uri": "https://localhost:8080/"
        },
        "id": "64ID0WkOE8dQ",
        "outputId": "8950cb80-bcad-4b3f-c87e-8ad8bb7d9100"
      },
      "outputs": [
        {
          "output_type": "execute_result",
          "data": {
            "text/plain": [
              "Training       28709\n",
              "PublicTest      3589\n",
              "PrivateTest     3589\n",
              "Name: Usage, dtype: int64"
            ]
          },
          "metadata": {},
          "execution_count": 20
        }
      ],
      "source": [
        "num_classes = 7\n",
        "width = 48\n",
        "height = 48\n",
        "emotion_labels = [\"Angry\", \"Disgust\", \"Fear\", \"Happy\", \"Sad\", \"Surprise\", \"Neutral\"]\n",
        "classes=np.array((\"Angry\", \"Disgust\", \"Fear\", \"Happy\", \"Sad\", \"Surprise\", \"Neutral\"))\n",
        "df.Usage.value_counts()"
      ]
    },
    {
      "cell_type": "code",
      "execution_count": null,
      "metadata": {
        "id": "y55wR-ROFfLn"
      },
      "outputs": [],
      "source": [
        "import itertools"
      ]
    },
    {
      "cell_type": "code",
      "execution_count": null,
      "metadata": {
        "colab": {
          "base_uri": "https://localhost:8080/",
          "height": 328
        },
        "id": "etdc8MMSElTW",
        "outputId": "fa6bb7d4-d743-497f-cd90-da1c578a2151"
      },
      "outputs": [
        {
          "output_type": "stream",
          "name": "stdout",
          "text": [
            "113/113 [==============================] - 1s 12ms/step\n"
          ]
        },
        {
          "output_type": "display_data",
          "data": {
            "text/plain": [
              "<Figure size 432x288 with 2 Axes>"
            ],
            "image/png": "[encoded data removed]"
          },
          "metadata": {
            "needs_background": "light"
          }
        }
      ],
      "source": [
        "def plot_confusion_matrix(y_test, y_pred, classes,\n",
        "                          normalize=False,\n",
        "                          title='Unnormalized confusion matrix',\n",
        "                          cmap=plt.cm.Blues):\n",
        "    cm = confusion_matrix(y_test, y_pred)\n",
        "    \n",
        "    if normalize:\n",
        "        cm = np.round(cm.astype('float') / cm.sum(axis=1)[:, np.newaxis], 2)\n",
        "        \n",
        "    np.set_printoptions(precision=2)\n",
        "        \n",
        "    plt.imshow(cm, interpolation='nearest', cmap=cmap)\n",
        "    plt.title(title)\n",
        "    plt.colorbar()\n",
        "    tick_marks = np.arange(len(classes))\n",
        "    plt.xticks(tick_marks, classes, rotation=45)\n",
        "    plt.yticks(tick_marks, classes)\n",
        "\n",
        "    thresh = cm.min() + (cm.max() - cm.min()) / 2.\n",
        "    for i, j in itertools.product(range(cm.shape[0]), range(cm.shape[1])):\n",
        "        plt.text(j, i, cm[i, j],\n",
        "                 horizontalalignment=\"center\",\n",
        "                 color=\"white\" if cm[i, j] > thresh else \"black\")\n",
        "\n",
        "    plt.tight_layout()\n",
        "    plt.ylabel('True expression')\n",
        "    plt.xlabel('Predicted expression')\n",
        "    plt.show()\n",
        "y_pred_ = model.predict(X_test/255., verbose=1)\n",
        "y_pred = np.argmax(y_pred_, axis=1)\n",
        "t_te = np.argmax(y_test, axis=1)\n",
        "fig = plot_confusion_matrix(y_test=t_te, y_pred=y_pred,\n",
        "                      classes=classes,\n",
        "                      normalize=True,cmap=plt.cm.Greys,  title='Average accuracy: ' +str((np.sum(y_pred == t_te)/len(t_te))) + '\\n')"
      ]
    },
    {
      "cell_type": "code",
      "execution_count": null,
      "metadata": {
        "colab": {
          "base_uri": "https://localhost:8080/"
        },
        "id": "59kWBwoQ2D2r",
        "outputId": "85ab4f1a-b7eb-4936-d7b0-08d0f5e04fa4"
      },
      "outputs": [
        {
          "output_type": "stream",
          "name": "stdout",
          "text": [
            "Saved model to disk\n"
          ]
        }
      ],
      "source": [
        "model_json = model.to_json()\n",
        "with open(\"draft3.json\", \"w\") as json_file:\n",
        "    json_file.write(model_json)\n",
        "model.save_weights(\"draft3.h5\")\n",
        "print(\"Saved model to disk\")"
      ]
    },
    {
      "cell_type": "code",
      "execution_count": null,
      "metadata": {
        "id": "cS-TDyoc2Hhl"
      },
      "outputs": [],
      "source": [
        "from tensorflow.keras.models import model_from_json\n",
        "model = model_from_json(open(\"/content/draft3.json\", \"r\").read())\n",
        "model.load_weights('/content/drive/MyDrive/College Project/draft3.h5')"
      ]
    },
    {
      "cell_type": "code",
      "execution_count": null,
      "metadata": {
        "id": "UI2ACC5RpzDy"
      },
      "outputs": [],
      "source": [
        "import numpy as np\n",
        "from tensorflow.keras.models import load_model, model_from_json\n",
        "from tensorflow.keras.preprocessing.image import load_img,img_to_array\n",
        "from tensorflow.keras.preprocessing import image"
      ]
    },
    {
      "cell_type": "code",
      "source": [
        "names = [\"none\",\"Alex\",\"User\",\"Sreekar\"]"
      ],
      "metadata": {
        "id": "n1t6bYubskyL"
      },
      "execution_count": null,
      "outputs": []
    },
    {
      "cell_type": "code",
      "execution_count": null,
      "metadata": {
        "id": "XcJ2rbFajzNB"
      },
      "outputs": [],
      "source": [
        "import os \n",
        "import cv2\n",
        "recognizer = cv2.face.LBPHFaceRecognizer_create()\n",
        "recognizer.read('/content/drive/MyDrive/College Project/trainer/trainer1.yml')\n",
        "cascadePath = \"/content/drive/MyDrive/College Project/frontface.xml\"\n",
        "faceCascade = cv2.CascadeClassifier(cascadePath);\n",
        "face_haar_cascade = cv2.CascadeClassifier(cascadePath)\n",
        "font = cv2.FONT_HERSHEY_SIMPLEX\n",
        "video_path=\"/content/1.jpg\"\n",
        "cap = cv2.VideoCapture(video_path)\n",
        "cap.set(3, 640)\n",
        "cap.set(4, 480)\n",
        "minW = 0.1*cap.get(3)\n",
        "minH = 0.1*cap.get(4)\n",
        "while cap.isOpened():\n",
        "    res,frame=cap.read()\n",
        "    height, width , channel = frame.shape\n",
        "    sub_img = frame[0:int(height/6),0:int(width)]\n",
        "    black_rect = np.ones(sub_img.shape, dtype=np.uint8)*0\n",
        "    res = cv2.addWeighted(sub_img, 0.77, black_rect,0.23, 0)\n",
        "    FONT = cv2.FONT_HERSHEY_SIMPLEX\n",
        "    FONT_SCALE = 0.8\n",
        "    FONT_THICKNESS = 2\n",
        "    lable_color = (10, 10, 255)\n",
        "    lable = \"Emotion Detection\"\n",
        "    lable_dimension = cv2.getTextSize(lable,FONT ,FONT_SCALE,FONT_THICKNESS)[0]\n",
        "    textX = int((res.shape[1] - lable_dimension[0]) / 2)\n",
        "    textY = int((res.shape[0] + lable_dimension[1]) / 2)\n",
        "    cv2.putText(res, lable, (textX,textY), FONT, FONT_SCALE, (255,255,255), FONT_THICKNESS)\n",
        "    gray_image= cv2.cvtColor(frame, cv2.COLOR_BGR2GRAY)\n",
        "    faces = face_haar_cascade.detectMultiScale(gray_image,\n",
        "        scaleFactor = 1.2,\n",
        "        minNeighbors = 5,\n",
        "        minSize = (int(minW), int(minH)))\n",
        "    gray = cv2.cvtColor(frame,cv2.COLOR_BGR2GRAY)\n",
        "    for (x,y, w, h) in faces:\n",
        "      cv2.rectangle(frame, pt1 = (x,y),pt2 = (x+w, y+h), color = (255,0,0),thickness =  2)\n",
        "      roi_gray = gray_image[y-5:y+h+5,x-5:x+w+5]\n",
        "      roi_gray=cv2.resize(roi_gray,(48,48))\n",
        "      image_pixels = img_to_array(roi_gray)\n",
        "      image_pixels = np.expand_dims(image_pixels, axis = 0)\n",
        "      image_pixels /= 255\n",
        "      predictions = model.predict(image_pixels)\n",
        "      max_index = np.argmax(predictions[0])\n",
        "      emotion_detection = ('angry', 'disgust', 'fear', 'happy', 'sad', 'surprise', 'neutral')\n",
        "      emotion_prediction = emotion_detection[max_index]\n",
        "      cv2.putText(res, \"Sentiment: {}\".format(emotion_prediction), (0,textY+22+5), FONT,0.7, lable_color,2)\n",
        "      lable_violation = 'Confidence: {}'.format(str(np.round(np.max(predictions[0])*100,1))+ \"%\")\n",
        "      violation_text_dimension = cv2.getTextSize(lable_violation,FONT,FONT_SCALE,FONT_THICKNESS )[0]\n",
        "      violation_x_axis = int(res.shape[1]- violation_text_dimension[0])\n",
        "      cv2.putText(res, lable_violation, (violation_x_axis,textY+22+5), FONT,0.7, lable_color,2)\n",
        "\n",
        "      id, confidence = recognizer.predict(gray[y:y+h,x:x+w])\n",
        "      if (confidence < 100):\n",
        "          id = names[id]\n",
        "          confidence = \"  {0}%\".format(round(100 - confidence))\n",
        "      else:\n",
        "          id = \"unknown\"\n",
        "          confidence = \"  {0}%\".format(round(100 - confidence))\n",
        "        \n",
        "      cv2.putText(frame, str(id), (x+5,y-5), font, 1, (255,255,255), 2)\n",
        "      cv2.putText(frame, str(confidence), (x+5,y+h-5), font, 1, (255,255,0), 1)\n",
        "\n",
        "\n",
        "    frame[0:int(height/6),0:int(width)] =res\n",
        "    from google.colab.patches import cv2_imshow\n",
        "    cv2_imshow(frame)\n",
        "    if cv2.waitKey(1) & 0xFF == ord('q'):\n",
        "        break\n",
        "cap.release()\n",
        "cv2.destroyAllWindows"
      ]
    },
    {
      "cell_type": "code",
      "source": [
        "import cv2\n",
        "import numpy as np\n",
        "from PIL import Image\n",
        "import os\n",
        "\n",
        "# Path for face image database\n",
        "path = '/content/drive/MyDrive/College Project/dataset'\n",
        "\n",
        "recognizer = cv2.face.LBPHFaceRecognizer_create()\n",
        "detector = cv2.CascadeClassifier(cv2.data.haarcascades +\"haarcascade_frontalface_default.xml\");\n",
        "\n",
        "# function to get the images and label data\n",
        "def getImagesAndLabels(path):\n",
        "\n",
        "    imagePaths = [os.path.join(path,f) for f in os.listdir(path)]     \n",
        "    faceSamples=[]\n",
        "    ids = []\n",
        "\n",
        "    for imagePath in imagePaths:\n",
        "\n",
        "        PIL_img = Image.open(imagePath).convert('L') # convert it to grayscale\n",
        "        img_numpy = np.array(PIL_img,'uint8')\n",
        "\n",
        "        id = int(os.path.split(imagePath)[-1].split(\".\")[1])\n",
        "        faces = detector.detectMultiScale(img_numpy)\n",
        "\n",
        "        for (x,y,w,h) in faces:\n",
        "            faceSamples.append(img_numpy[y:y+h,x:x+w])\n",
        "            ids.append(id)\n",
        "\n",
        "    return faceSamples,ids\n",
        "\n",
        "print (\"\\n [INFO] Training faces. It will take a few seconds. Wait ...\")\n",
        "faces,ids = getImagesAndLabels(path)\n",
        "recognizer.train(faces, np.array(ids))\n",
        "\n",
        "recognizer.write('/content/drive/MyDrive/College Project/trainer/trainer3.yml')\n",
        "\n",
        "print(\"\\n [INFO] {0} faces trained. Exiting Program\".format(len(np.unique(ids))))"
      ],
      "metadata": {
        "id": "V1ToW8QvtEEo",
        "colab": {
          "base_uri": "https://localhost:8080/"
        },
        "outputId": "004e8e38-8e94-4f90-f699-f372fffb2168"
      },
      "execution_count": null,
      "outputs": [
        {
          "output_type": "stream",
          "name": "stdout",
          "text": [
            "\n",
            " [INFO] Training faces. It will take a few seconds. Wait ...\n",
            "\n",
            " [INFO] 3 faces trained. Exiting Program\n"
          ]
        }
      ]
    }
  ],
  "metadata": {
    "accelerator": "GPU",
    "colab": {
      "provenance": []
    },
    "gpuClass": "standard",
    "kernelspec": {
      "display_name": "Python 3",
      "name": "python3"
    },
    "language_info": {
      "name": "python"
    }
  },
  "nbformat": 4,
  "nbformat_minor": 0
}
